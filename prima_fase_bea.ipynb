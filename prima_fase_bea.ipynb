{
  "nbformat": 4,
  "nbformat_minor": 0,
  "metadata": {
    "colab": {
      "provenance": [],
      "mount_file_id": "1OcRlv7qp-vxuEmQXFlIvhw0V_8uyWf_4",
      "authorship_tag": "ABX9TyNxnp0NAw7/xlxM7Slz58EK",
      "include_colab_link": true
    },
    "kernelspec": {
      "name": "python3",
      "display_name": "Python 3"
    },
    "language_info": {
      "name": "python"
    }
  },
  "cells": [
    {
      "cell_type": "markdown",
      "metadata": {
        "id": "view-in-github",
        "colab_type": "text"
      },
      "source": [
        "<a href=\"https://colab.research.google.com/github/beagalati/Progetto_data_analysis/blob/main/prima_fase_bea.ipynb\" target=\"_parent\"><img src=\"https://colab.research.google.com/assets/colab-badge.svg\" alt=\"Open In Colab\"/></a>"
      ]
    },
    {
      "cell_type": "code",
      "source": [
        "matrix = []\n",
        "import csv\n",
        "\n",
        "nome= input(\"Inserisci il nome del file: \")\n",
        "nome_tot=nome+\".csv\"\n",
        "\n",
        "with open(nome_tot) as csv_file:\n",
        "#leggi il contenuto, prendendo i valori uno ad uno delimitati dalla virgola\n",
        "  csv_reader = csv.reader(csv_file, delimiter=',')\n",
        "#per ogni riga, per ogni campo(colonna), stampa il valore\n",
        "  i=0\n",
        "  for riga in csv_reader:\n",
        "    i=i+1\n",
        "    if i>1:\n",
        "      lista = []\n",
        "      for campo in riga:\n",
        "        lista.append(campo)\n",
        "      matrix.append(lista)\n",
        "      print(lista)\n",
        "      print(\"\\t\")\n",
        "\n",
        "#trova il massimo di ogni colonna utile (scarta  la prima colonna, non è utile)\n",
        "for colonna in range (len(matrix[0])-1):\n",
        "  colonna=colonna+1\n",
        "  print(\"Massimo della colonna \",colonna,\": \")\n",
        "  maximum = matrix[0][colonna]\n",
        "  for i in range (len(matrix)):\n",
        "    if matrix[i][colonna]>maximum:\n",
        "      maximum = matrix[i][colonna]\n",
        "  print(maximum)   \n",
        "print(\"\\t\")\n",
        "#minimo\n",
        "for colonna in range (len(matrix[0])-1):\n",
        "  colonna=colonna+1\n",
        "  print(\"Minimo della colonna \",colonna,\": \")\n",
        "  minimum = matrix[0][colonna]\n",
        "  for i in range (len(matrix)):\n",
        "    if matrix[i][colonna]<minimum:\n",
        "      minimum = matrix[i][colonna]\n",
        "  print(minimum) "
      ],
      "metadata": {
        "colab": {
          "base_uri": "https://localhost:8080/"
        },
        "id": "PpqBbY1-SiEI",
        "outputId": "bc5abddc-881f-43d4-b4fb-11f862f6e7d0"
      },
      "execution_count": 26,
      "outputs": [
        {
          "output_type": "stream",
          "name": "stdout",
          "text": [
            "Inserisci il nome del file: RACE.MI2022\n",
            "['2022-01-01', '227.899994', '238.699997', '196.550003', '202.899994', '200.116516', '7136643']\n",
            "\t\n",
            "['2022-02-01', '205.800003', '211.899994', '182.199997', '192.750000', '190.105759', '8569654']\n",
            "\t\n",
            "['2022-03-01', '192.600006', '202.899994', '164.949997', '198.699997', '195.974136', '11535773']\n",
            "\t\n",
            "['2022-04-01', '198.699997', '212.899994', '190.800003', '203.000000', '200.215149', '6541741']\n",
            "\t\n",
            "['2022-05-01', '200.699997', '205.899994', '170.850006', '181.399994', '180.097595', '7719991']\n",
            "\t\n",
            "['2022-06-01', '182.250000', '183.550003', '161.399994', '175.199997', '173.942123', '7911240']\n",
            "\t\n",
            "['2022-07-01', '173.750000', '207.199997', '173.350006', '206.199997', '204.719543', '6433187']\n",
            "\t\n",
            "['2022-08-01', '206.500000', '215.800003', '192.000000', '193.199997', '191.812881', '5480529']\n",
            "\t\n",
            "['2022-09-01', '192.100006', '202.300003', '188.149994', '191.699997', '190.323654', '7570345']\n",
            "\t\n",
            "['2022-10-01', '190.000000', '200.100006', '183.000000', '199.500000', '198.067657', '6016978']\n",
            "\t\n",
            "['2022-11-01', '200.300003', '213.300003', '192.199997', '211.899994', '210.378616', '6334707']\n",
            "\t\n",
            "['2022-12-01', '213.500000', '217.100006', '197.550003', '200.199997', '198.762619', '5537632']\n",
            "\t\n",
            "Massimo della colonna  1 : \n",
            "227.899994\n",
            "Massimo della colonna  2 : \n",
            "238.699997\n",
            "Massimo della colonna  3 : \n",
            "197.550003\n",
            "Massimo della colonna  4 : \n",
            "211.899994\n",
            "Massimo della colonna  5 : \n",
            "210.378616\n",
            "Massimo della colonna  6 : \n",
            "8569654\n",
            "\t\n",
            "Minimo della colonna  1 : \n",
            "173.750000\n",
            "Minimo della colonna  2 : \n",
            "183.550003\n",
            "Minimo della colonna  3 : \n",
            "161.399994\n",
            "Minimo della colonna  4 : \n",
            "175.199997\n",
            "Minimo della colonna  5 : \n",
            "173.942123\n",
            "Minimo della colonna  6 : \n",
            "11535773\n"
          ]
        }
      ]
    }
  ]
}