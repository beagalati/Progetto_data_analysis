{
  "nbformat": 4,
  "nbformat_minor": 0,
  "metadata": {
    "colab": {
      "provenance": [],
      "authorship_tag": "ABX9TyPFIQy+mM9W5GGjk6gc5fO3",
      "include_colab_link": true
    },
    "kernelspec": {
      "name": "python3",
      "display_name": "Python 3"
    },
    "language_info": {
      "name": "python"
    }
  },
  "cells": [
    {
      "cell_type": "markdown",
      "metadata": {
        "id": "view-in-github",
        "colab_type": "text"
      },
      "source": [
        "<a href=\"https://colab.research.google.com/github/beagalati/Progetto_data_analysis/blob/main/MAPPA%2BSPIEGAZIONE.ipynb\" target=\"_parent\"><img src=\"https://colab.research.google.com/assets/colab-badge.svg\" alt=\"Open In Colab\"/></a>"
      ]
    },
    {
      "cell_type": "code",
      "source": [
        "\n",
        "\n",
        "def mappa1():\n",
        "  map1 = go.Figure(go.Scattermapbox(mode = \"markers\",lon = [\"10.866667\"], lat = [\"44.53333\"],text=[\"Maranello (FERRARI)\"],marker={\"size\": 15,\"opacity\":0.5, \"color\": [\"red\"]}))\n",
        "  map1.update_layout(mapbox = {'style': \"stamen-terrain\"}, margin = {'l':0, 'r':0, 'b':0, 't':0})\n",
        "  return map1\n",
        "\n",
        "def mappa2():\n",
        "  map2 = go.Figure(go.Scattermapbox(mode = \"markers\",lon = [\"10.866667\",\"-83.1763\"], lat = [\"44.53333\",\"42.3223\"],text=[\"Maranello (FERRARI)\",\"Deaborn (FORD)\"],marker={\"size\": 15,\"opacity\":0.5, \"color\": [\"red\",\"blue\"]}))\n",
        "  map2.update_layout(mapbox = {'style': \"stamen-terrain\"}, margin = {'l':0, 'r':0, 'b':0, 't':0})\n",
        "  return map2\n",
        "\n",
        "def mappa3():\n",
        "  map3 = go.Figure(go.Scattermapbox(mode = \"markers\",lon = [\"10.866667\",\"-83.1763\",\"9.1859243\"], lat = [\"44.53333\",\"42.3223\",\"45.4654219\"],text=[\"Maranello (FERRARI)\",\"Deaborn (FORD)\",\"Milano (ALFA ROMEO)\"],marker={\"size\": 15,\"opacity\":0.5, \"color\": [\"red\",\"blue\",\"darkviolet\"]}))\n",
        "  map3.update_layout(mapbox = {'style': \"stamen-terrain\"}, margin = {'l':0, 'r':0, 'b':0, 't':0})\n",
        "  return map3\n",
        "\n"
      ],
      "metadata": {
        "id": "M3fR2T4IA8KR"
      },
      "execution_count": null,
      "outputs": []
    },
    {
      "cell_type": "markdown",
      "source": [
        "Il rendimento di un’azione indica il guadagno o la perdita prodotti da un investimento in un’azione. \n",
        "\n",
        "L' On Balance Volume (OBV) è un indicatore che mette in relazione il volume con le variazioni di prezzo, poiché quando c'è un volume di trading, il prezzo prima o poi ne risentirà. \n",
        "\n",
        "La media mobile è usata per apprezzare la direzione corrente di una tendenza.\n",
        "\n",
        "Il grafico a candele è un grafico finanziario che mostra i movimenti di prezzo dei titoli in una seduta. Ha la forma di una candela, la cui parte superiore indica il prezzo di apertura (open) e quella inferiore quello di chiusura (close). Le sporgenze indicano invece il prezzo più alto e più basso della seduta in esame.\n",
        "In particolare, in questo grafico, le candele oro indicano una crescita del titolo nel corso della seduta (Close>Open), mentre quelle marroni una diminuzione (Close<Open)."
      ],
      "metadata": {
        "id": "nSNxLryze6-R"
      }
    }
  ]
}